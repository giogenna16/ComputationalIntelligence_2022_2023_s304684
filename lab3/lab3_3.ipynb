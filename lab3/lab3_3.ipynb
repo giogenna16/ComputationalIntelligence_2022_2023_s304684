{
 "cells": [
  {
   "cell_type": "code",
   "execution_count": 34,
   "metadata": {},
   "outputs": [],
   "source": [
    "from collections import namedtuple\n",
    "import random\n",
    "from copy import deepcopy\n",
    "from itertools import accumulate\n",
    "from operator import xor"
   ]
  },
  {
   "cell_type": "markdown",
   "metadata": {},
   "source": [
    "## The *Nim* and *Nimply* classes"
   ]
  },
  {
   "cell_type": "code",
   "execution_count": 35,
   "metadata": {},
   "outputs": [],
   "source": [
    "Nimply = namedtuple(\"Nimply\", \"row, num_objects\")"
   ]
  },
  {
   "cell_type": "code",
   "execution_count": 36,
   "metadata": {},
   "outputs": [],
   "source": [
    "class Nim:\n",
    "    def __init__(self, num_rows: int) -> None:\n",
    "        self._rows = [i * 2 + 1 for i in range(num_rows)]\n",
    "\n",
    "    def __bool__(self):\n",
    "        return sum(self._rows) > 0\n",
    "\n",
    "    def __str__(self):\n",
    "        return \"<\" + \" \".join(str(_) for _ in self._rows) + \">\"\n",
    "\n",
    "    @property\n",
    "    def rows(self) -> tuple:\n",
    "        return tuple(self._rows)\n",
    "\n",
    "    def nimming(self, ply: Nimply) -> None:\n",
    "        row, num_objects = ply\n",
    "        assert self._rows[row] >= num_objects\n",
    "        self._rows[row] -= num_objects  \n",
    "\n",
    "    def adding(self, ply: Nimply) -> None:\n",
    "        row, num_objects = ply\n",
    "        self._rows[row] += num_objects \n",
    "   "
   ]
  },
  {
   "cell_type": "code",
   "execution_count": 37,
   "metadata": {},
   "outputs": [],
   "source": [
    "def nim_sum(state: Nim) -> int:\n",
    "    *_, result = accumulate(state.rows, xor)\n",
    "    return result\n",
    "\n",
    "\n",
    "def cook_status(state: Nim) -> dict:\n",
    "    cooked = dict()\n",
    "    cooked[\"possible_moves\"] = [\n",
    "        (r, o) for r, c in enumerate(state.rows) for o in range(1, c + 1) \n",
    "    ]\n",
    "    cooked[\"active_rows_number\"] = sum(o > 0 for o in state.rows)\n",
    "    cooked[\"shortest_row\"] = min((x for x in enumerate(state.rows) if x[1] > 0), key=lambda y: y[1])[0]\n",
    "    cooked[\"longest_row\"] = max((x for x in enumerate(state.rows)), key=lambda y: y[1])[0]\n",
    "    cooked[\"nim_sum\"] = nim_sum(state)\n",
    "\n",
    "    brute_force = list()\n",
    "    for m in cooked[\"possible_moves\"]:\n",
    "        tmp = deepcopy(state)\n",
    "        tmp.nimming(m)\n",
    "        brute_force.append((m, nim_sum(tmp)))\n",
    "    cooked[\"brute_force\"] = brute_force\n",
    "\n",
    "    return cooked\n",
    "\n",
    "# for the minmax function, to save a bit the computational cost, because compute only the possible moves\n",
    "# (instead of use \"cook_status(state: Nim) -> dict:\") \n",
    "def cook_status_for_mM(state: Nim) -> dict:\n",
    "    cooked = dict()\n",
    "    cooked[\"possible_moves\"] = [\n",
    "        (r, o) for r, c in enumerate(state.rows) for o in range(1, c + 1) \n",
    "    ]\n",
    "    return cooked\n"
   ]
  },
  {
   "attachments": {},
   "cell_type": "markdown",
   "metadata": {},
   "source": [
    "### Some constants"
   ]
  },
  {
   "cell_type": "code",
   "execution_count": 38,
   "metadata": {},
   "outputs": [],
   "source": [
    "NIM_SIZE= 3\n",
    "NUM_MATCHES= 100"
   ]
  },
  {
   "attachments": {},
   "cell_type": "markdown",
   "metadata": {},
   "source": [
    "### Optimal (Nim-Sum) Agent"
   ]
  },
  {
   "cell_type": "code",
   "execution_count": 39,
   "metadata": {},
   "outputs": [],
   "source": [
    "def optimal_strategy(state: Nim) -> Nimply:\n",
    "    data = cook_status(state)\n",
    "    return next((bf for bf in data[\"brute_force\"] if bf[1] == 0), random.choice(data[\"brute_force\"]))[0]"
   ]
  },
  {
   "attachments": {},
   "cell_type": "markdown",
   "metadata": {},
   "source": [
    "### Pure random Agent"
   ]
  },
  {
   "cell_type": "code",
   "execution_count": 40,
   "metadata": {},
   "outputs": [],
   "source": [
    "def pure_random(state: Nim) -> Nimply:\n",
    "    row = random.choice([r for r, c in enumerate(state.rows) if c > 0])\n",
    "    num_objects = random.randint(1, state.rows[row])\n",
    "    return Nimply(row, num_objects)"
   ]
  },
  {
   "attachments": {},
   "cell_type": "markdown",
   "metadata": {},
   "source": [
    "## MinMax Agent"
   ]
  },
  {
   "cell_type": "code",
   "execution_count": 41,
   "metadata": {},
   "outputs": [],
   "source": [
    "def eval_state(state: Nim, p1_turn):\n",
    "    if not p1_turn and not state: #p1 wins\n",
    "        return 1\n",
    "    elif p1_turn and not state: #p1 loses\n",
    "        return -1\n",
    "    else:\n",
    "        return 0"
   ]
  },
  {
   "cell_type": "code",
   "execution_count": 42,
   "metadata": {},
   "outputs": [],
   "source": [
    "def minmax(state: Nim, maximizing):\n",
    "    val = eval_state(state, maximizing)\n",
    "    if val != 0:\n",
    "        return None, val\n",
    "    data= cook_status_for_mM(state)\n",
    "    possible= data[\"possible_moves\"]\n",
    "    evaluations = list()\n",
    "    if maximizing:\n",
    "        for ply in possible:\n",
    "            temp = deepcopy(state)\n",
    "            temp.nimming(ply)\n",
    "            _, val = minmax(temp, maximizing)\n",
    "            evaluations.append((ply, -val))\n",
    "        return  max(evaluations, key=lambda k: k[1])      \n",
    "    else:\n",
    "        for ply in possible:\n",
    "            temp = deepcopy(state)\n",
    "            temp.nimming(ply)\n",
    "            _, val = minmax(temp, maximizing)\n",
    "            evaluations.append((ply, -val))\n",
    "        return  min(evaluations, key=lambda k: k[1]) "
   ]
  },
  {
   "attachments": {},
   "cell_type": "markdown",
   "metadata": {},
   "source": [
    "### Alpha-Beta Pruning"
   ]
  },
  {
   "cell_type": "code",
   "execution_count": 43,
   "metadata": {},
   "outputs": [],
   "source": [
    "def minmax_alpha_beta(state: Nim, maximizing, alpha=-1 , beta=1):\n",
    "    val = eval_state(state, maximizing)\n",
    "    if val != 0:\n",
    "        return None, val\n",
    "    data= cook_status_for_mM(state)\n",
    "    possible= data[\"possible_moves\"]\n",
    "    if maximizing:\n",
    "        best = -1\n",
    "        best_ply=()\n",
    "        for ply in possible:\n",
    "            temp = deepcopy(state)\n",
    "            temp.nimming(ply)\n",
    "            _, val = minmax_alpha_beta(temp, maximizing, alpha, beta)\n",
    "            if best<= -val:\n",
    "                best_ply= ply\n",
    "                best= -val\n",
    "            alpha= max(alpha, best)\n",
    "            if beta <= alpha: #pruning\n",
    "                break\n",
    "        return  best_ply, best    \n",
    "    else:\n",
    "        best = 1\n",
    "        best_ply=()\n",
    "        for ply in possible:\n",
    "            temp = deepcopy(state)\n",
    "            temp.nimming(ply)\n",
    "            _, val = minmax_alpha_beta(temp, maximizing, alpha, beta)\n",
    "            if best>= -val:\n",
    "                best_ply= ply\n",
    "                best= -val\n",
    "            alpha= min(alpha, best)\n",
    "            if beta <= alpha: #pruning\n",
    "                break\n",
    "        return  best_ply, best    "
   ]
  },
  {
   "attachments": {},
   "cell_type": "markdown",
   "metadata": {},
   "source": [
    "### Evaluation"
   ]
  },
  {
   "cell_type": "code",
   "execution_count": 44,
   "metadata": {},
   "outputs": [
    {
     "name": "stdout",
     "output_type": "stream",
     "text": [
      "After 100 matches:\n",
      "P1 (minmax) won  50  matches (starting first  50  times!).\n",
      "P2 (with optimal) won  50  matches (starting first  50  times!).\n"
     ]
    }
   ],
   "source": [
    "p1_wins=0\n",
    "first_move_p1= 0\n",
    "\n",
    "for m in range(NUM_MATCHES):\n",
    "    x= Nim(NIM_SIZE)\n",
    "    if m%2== 0:\n",
    "        first_move_p1+=1\n",
    "        p1_turn= True\n",
    "    else:\n",
    "        p1_turn= False\n",
    "    while(x):\n",
    "        if(p1_turn):\n",
    "            #ply, _ = minmax(x, p1_turn)\n",
    "            ply, _ = minmax_alpha_beta(x, p1_turn)\n",
    "            x.nimming(ply)\n",
    "            p1_turn= False\n",
    "        else:\n",
    "            #ply= pure_random(x)\n",
    "            ply= optimal_strategy(x)\n",
    "            x.nimming(ply)\n",
    "            p1_turn= True\n",
    "    if(not p1_turn):\n",
    "        p1_wins+=1\n",
    "    \n",
    "print(\"After\", NUM_MATCHES, \"matches:\\nP1 (minmax) won \",p1_wins,\" matches (starting first \", first_move_p1,\" times!).\\nP2 (with optimal) won \",NUM_MATCHES-p1_wins,\" matches (starting first \", NUM_MATCHES-first_move_p1,\" times!).\")\n",
    "    \n",
    "        "
   ]
  }
 ],
 "metadata": {
  "kernelspec": {
   "display_name": "Python 3.10.2 64-bit",
   "language": "python",
   "name": "python3"
  },
  "language_info": {
   "codemirror_mode": {
    "name": "ipython",
    "version": 3
   },
   "file_extension": ".py",
   "mimetype": "text/x-python",
   "name": "python",
   "nbconvert_exporter": "python",
   "pygments_lexer": "ipython3",
   "version": "3.10.2"
  },
  "orig_nbformat": 4,
  "vscode": {
   "interpreter": {
    "hash": "369f2c481f4da34e4445cda3fffd2e751bd1c4d706f27375911949ba6bb62e1c"
   }
  }
 },
 "nbformat": 4,
 "nbformat_minor": 2
}
