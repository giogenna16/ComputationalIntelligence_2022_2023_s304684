{
 "cells": [
  {
   "cell_type": "code",
   "execution_count": 1,
   "metadata": {},
   "outputs": [],
   "source": [
    "from collections import namedtuple\n",
    "import random\n",
    "from copy import deepcopy\n",
    "from typing import Callable\n",
    "from itertools import accumulate\n",
    "from operator import xor"
   ]
  },
  {
   "cell_type": "markdown",
   "metadata": {},
   "source": [
    "## The *Nim* and *Nimply* classes"
   ]
  },
  {
   "cell_type": "code",
   "execution_count": 2,
   "metadata": {},
   "outputs": [],
   "source": [
    "Nimply = namedtuple(\"Nimply\", \"row, num_objects\")"
   ]
  },
  {
   "cell_type": "code",
   "execution_count": 3,
   "metadata": {},
   "outputs": [],
   "source": [
    "class Nim:\n",
    "    def __init__(self, num_rows: int, k: int = None) -> None:\n",
    "        self._rows = [i * 2 + 1 for i in range(num_rows)]\n",
    "        self._k = k\n",
    "\n",
    "    def __bool__(self):\n",
    "        return sum(self._rows) > 0\n",
    "\n",
    "    def __str__(self):\n",
    "        return \"<\" + \" \".join(str(_) for _ in self._rows) + \">\"\n",
    "\n",
    "    @property\n",
    "    def rows(self) -> tuple:\n",
    "        return tuple(self._rows)\n",
    "\n",
    "    @property\n",
    "    def k(self) -> int:\n",
    "        return self._k\n",
    "\n",
    "    def nimming(self, ply: Nimply) -> None:\n",
    "        row, num_objects = ply\n",
    "        assert self._rows[row] >= num_objects\n",
    "        assert self._k is None or num_objects <= self._k\n",
    "        self._rows[row] -= num_objects   \n",
    "   \n",
    "    \n",
    "   \n",
    "# x= Nim(5)\n",
    "# x.nimming(2, 3) #leave 3 objects from the row 2 (the first row is row 0)\n",
    "# print(x._rows)"
   ]
  },
  {
   "cell_type": "code",
   "execution_count": 4,
   "metadata": {},
   "outputs": [],
   "source": [
    "def nim_sum(state: Nim) -> int:\n",
    "    *_, result = accumulate(state.rows, xor)\n",
    "    return result\n",
    "\n",
    "\n",
    "def cook_status(state: Nim) -> dict:\n",
    "    cooked = dict()\n",
    "    cooked[\"possible_moves\"] = [\n",
    "        (r, o) for r, c in enumerate(state.rows) for o in range(1, c + 1) if state.k is None or o <= state.k\n",
    "    ]\n",
    "    cooked[\"active_rows_number\"] = sum(o > 0 for o in state.rows)\n",
    "    cooked[\"shortest_row\"] = min((x for x in enumerate(state.rows) if x[1] > 0), key=lambda y: y[1])[0]\n",
    "    cooked[\"longest_row\"] = max((x for x in enumerate(state.rows)), key=lambda y: y[1])[0]\n",
    "    cooked[\"nim_sum\"] = nim_sum(state)\n",
    "\n",
    "    brute_force = list()\n",
    "    for m in cooked[\"possible_moves\"]:\n",
    "        tmp = deepcopy(state)\n",
    "        tmp.nimming(m)\n",
    "        brute_force.append((m, nim_sum(tmp)))\n",
    "    cooked[\"brute_force\"] = brute_force\n",
    "\n",
    "    return cooked"
   ]
  },
  {
   "cell_type": "markdown",
   "metadata": {},
   "source": [
    "### Some strategies used for the evaluation of the evolved strategy"
   ]
  },
  {
   "cell_type": "code",
   "execution_count": 5,
   "metadata": {},
   "outputs": [],
   "source": [
    "def optimal_strategy(state: Nim) -> Nimply:\n",
    "    data = cook_status(state)\n",
    "    return next((bf for bf in data[\"brute_force\"] if bf[1] == 0), random.choice(data[\"brute_force\"]))[0]\n"
   ]
  },
  {
   "cell_type": "code",
   "execution_count": 6,
   "metadata": {},
   "outputs": [],
   "source": [
    "def pure_random(state: Nim) -> Nimply:\n",
    "    row = random.choice([r for r, c in enumerate(state.rows) if c > 0])\n",
    "    num_objects = random.randint(1, state.rows[row])\n",
    "    return Nimply(row, num_objects)"
   ]
  },
  {
   "cell_type": "code",
   "execution_count": 7,
   "metadata": {},
   "outputs": [],
   "source": [
    "def gabriele(state: Nim) -> Nimply:\n",
    "    \"\"\"Pick always the maximum possible number of the lowest row\"\"\"\n",
    "    possible_moves = [(r, o) for r, c in enumerate(state.rows) for o in range(1, c + 1)]\n",
    "    return Nimply(*max(possible_moves, key=lambda m: (-m[0], m[1])))"
   ]
  },
  {
   "cell_type": "code",
   "execution_count": 8,
   "metadata": {},
   "outputs": [],
   "source": [
    "def reverse_gabriele(state: Nim) -> Nimply:\n",
    "    \"\"\"Pick always the minumum possible number (1) of the maximum row\"\"\"\n",
    "    data= cook_status(state)\n",
    "    return Nimply(data[\"longest_row\"], 1)"
   ]
  },
  {
   "cell_type": "code",
   "execution_count": 9,
   "metadata": {},
   "outputs": [],
   "source": [
    "def giovanni(state: Nim) -> Nimply:\n",
    "    data= cook_status(state)\n",
    "    \"\"\"If active rows are even, take 1 from the longest; else take all from the shortest\"\"\"\n",
    "    if(data[\"active_rows_number\"] % 2 ==0):\n",
    "        return Nimply(data[\"longest_row\"], 1)\n",
    "    else:\n",
    "        return Nimply(data[\"shortest_row\"], state.rows[data[\"shortest_row\"]])"
   ]
  },
  {
   "cell_type": "code",
   "execution_count": 10,
   "metadata": {},
   "outputs": [],
   "source": [
    "def my_very_silly(state: Nim) -> Nimply:\n",
    "    \"\"\"Do actions to try to lose the majority of the times\"\"\"\n",
    "    data= cook_status(state)\n",
    "    if(data[\"active_rows_number\"]>=3):\n",
    "        return Nimply(data[\"shortest_row\"], 1)\n",
    "    elif(data[\"active_rows_number\"]==2):\n",
    "        return Nimply(data[\"longest_row\"], state.rows[data[\"longest_row\"]])\n",
    "    elif(data[\"active_rows_number\"]==1):\n",
    "        if(state.rows[data[\"shortest_row\"]]>1):\n",
    "            return Nimply(data[\"shortest_row\"], state.rows[data[\"shortest_row\"]]-1)\n",
    "        else:\n",
    "            return Nimply(data[\"shortest_row\"], 1)"
   ]
  },
  {
   "cell_type": "code",
   "execution_count": 11,
   "metadata": {},
   "outputs": [],
   "source": [
    "def my_smart(state: Nim) -> Nimply:\n",
    "    \"\"\"Do actions to try to win the majority of the times\"\"\"\n",
    "    data= cook_status(state)\n",
    "    if(data[\"active_rows_number\"]>=3):\n",
    "        return Nimply(data[\"shortest_row\"], 1)\n",
    "    elif(data[\"active_rows_number\"]==2 and state.rows[data[\"longest_row\"]]>1):\n",
    "        return Nimply(data[\"longest_row\"], state.rows[data[\"longest_row\"]]-1)\n",
    "    elif(data[\"active_rows_number\"]==2 and state.rows[data[\"longest_row\"]]<=1):\n",
    "        return Nimply(data[\"longest_row\"], 1)\n",
    "    elif(data[\"active_rows_number\"]==1):\n",
    "        return Nimply(data[\"shortest_row\"], state.rows[data[\"shortest_row\"]])\n"
   ]
  },
  {
   "cell_type": "markdown",
   "metadata": {},
   "source": [
    "### My evolved hardcoded "
   ]
  },
  {
   "cell_type": "code",
   "execution_count": 12,
   "metadata": {},
   "outputs": [],
   "source": [
    "# function in which the ply are chosen on the basis of the values of the genes of the genome\n",
    "def my_evolved_hard_coded(state: Nim, genome) -> Nimply:\n",
    "    data= cook_status(state)\n",
    "    if(data[\"active_rows_number\"]>=genome[0]):\n",
    "        if(state.rows[data[\"longest_row\"]]>1):\n",
    "            return Nimply(data[\"longest_row\"], int(state.rows[data[\"longest_row\"]]/2))\n",
    "        else:\n",
    "            return Nimply(data[\"longest_row\"], 1)\n",
    "    elif(data[\"active_rows_number\"]==genome[1] and state.rows[data[\"longest_row\"]]>genome[3]):\n",
    "        if(state.rows[data[\"longest_row\"]]>1):\n",
    "            return Nimply(data[\"longest_row\"], state.rows[data[\"longest_row\"]]-1)\n",
    "        else:\n",
    "            return Nimply(data[\"longest_row\"], 1)\n",
    "    elif(data[\"active_rows_number\"]==genome[1] and state.rows[data[\"longest_row\"]]<=genome[3]):\n",
    "        return Nimply(data[\"longest_row\"], 1)\n",
    "    elif(data[\"active_rows_number\"]==genome[2]):\n",
    "        return Nimply(data[\"shortest_row\"], state.rows[data[\"shortest_row\"]])\n",
    "    elif(data[\"active_rows_number\"]==genome[4]):\n",
    "        if(state.rows[data[\"shortest_row\"]]>1):\n",
    "            return Nimply(data[\"shortest_row\"], state.rows[data[\"shortest_row\"]]-1)\n",
    "        else:\n",
    "            return Nimply(data[\"shortest_row\"], 1)\n",
    "    else:\n",
    "        return Nimply(data[\"longest_row\"], 1)\n"
   ]
  },
  {
   "cell_type": "markdown",
   "metadata": {},
   "source": [
    "### Parameters for the evaluation and the generation"
   ]
  },
  {
   "cell_type": "code",
   "execution_count": 13,
   "metadata": {},
   "outputs": [],
   "source": [
    "NUM_GENERATIONS = 200\n",
    "NUM_MATCHES = 10\n",
    "NIM_SIZE = 8\n",
    "NUM_GENES = 5"
   ]
  },
  {
   "cell_type": "markdown",
   "metadata": {},
   "source": [
    "### Evaluation (to compute the fitness)"
   ]
  },
  {
   "cell_type": "code",
   "execution_count": 14,
   "metadata": {},
   "outputs": [],
   "source": [
    "# The evaluation is used to evaluate a genome, so to compute its fitness: a genome is a tuple of 5 elements (genes) and these are used in \n",
    "# the function my_evolved_hard_coded as parameters of equalities and inequalities, for instance: \"if number of active rows is greater than\n",
    "#  genome[0], do this\", etc. \n",
    "# In the evaluation, there are 10 matches, 5 in which the my_evolved_hard_coded starts first and 5 in which the my_evolved_hard_coded starts\n",
    "# second against 5 hard coded rules of different difficulties (so 2 match for each hard coded) (Doing more than 2 match for each hard coded is\n",
    "# useless because doing one match in which one start first and another in which the same start seconds, covers all the possibilities, because\n",
    "# the hard coded are not randomic)\n",
    "def evaluate(strategy: Callable, genome_ev) -> int:\n",
    "    p1_wins_ev= 0\n",
    "    opponent= ()\n",
    "    for m in range(NUM_MATCHES):\n",
    "        if (m< NUM_MATCHES/5):\n",
    "            opponent = (strategy, my_very_silly) \n",
    "        elif(m>= NUM_MATCHES/5 and m< 2*NUM_MATCHES/5):\n",
    "            opponent = (strategy, reverse_gabriele) \n",
    "        elif(m>= 2*NUM_MATCHES/5 and m< 3*NUM_MATCHES/5):\n",
    "            opponent = (strategy, gabriele) \n",
    "        elif(m>= 3*NUM_MATCHES/5 and m< 4*NUM_MATCHES/5):\n",
    "            opponent = (strategy, giovanni)\n",
    "        else:\n",
    "            opponent = (strategy, my_smart)\n",
    "        nim_ev = Nim(NIM_SIZE)\n",
    "        if m%2== 0:           \n",
    "            p1_turn_ev= True\n",
    "        else:\n",
    "            p1_turn_ev= False\n",
    "        while nim_ev:\n",
    "            if(p1_turn_ev):\n",
    "                ply_ev = opponent[0](nim_ev, genome_ev)\n",
    "                nim_ev.nimming(ply_ev)\n",
    "                p1_turn_ev= False\n",
    "            else:\n",
    "                ply_ev = opponent[1](nim_ev)\n",
    "                nim_ev.nimming(ply_ev)\n",
    "                p1_turn_ev= True \n",
    "        if(not p1_turn_ev):\n",
    "            p1_wins_ev+=1\n",
    "    return p1_wins_ev  #this is the fitness: the number of matches won"
   ]
  },
  {
   "cell_type": "markdown",
   "metadata": {},
   "source": [
    "### Mutation "
   ]
  },
  {
   "cell_type": "code",
   "execution_count": 15,
   "metadata": {},
   "outputs": [],
   "source": [
    "#change in a random way all the genes that compose the genome (create a new genome)\n",
    "def mutation():\n",
    "    nim_mu= Nim(NIM_SIZE)\n",
    "    init_mu= cook_status(nim_mu)\n",
    "    return tuple([random.randrange(1, NIM_SIZE), random.randrange(1, NIM_SIZE), random.randrange(1, NIM_SIZE), random.randrange(1, nim_mu._rows[init_mu[\"longest_row\"]]), random.randrange(1, NIM_SIZE)])"
   ]
  },
  {
   "cell_type": "markdown",
   "metadata": {},
   "source": [
    "### Generation"
   ]
  },
  {
   "cell_type": "code",
   "execution_count": 16,
   "metadata": {},
   "outputs": [
    {
     "name": "stdout",
     "output_type": "stream",
     "text": [
      "genome:  (7, 7, 1, 9, 5) fitness:  8\n"
     ]
    }
   ],
   "source": [
    "chosen= tuple()\n",
    "max_fit= 0\n",
    "for _ in range(NUM_GENERATIONS):\n",
    "    g = mutation() #a mutation is a random creation of a new genome\n",
    "    f= evaluate(my_evolved_hard_coded, g)\n",
    "    if(f > max_fit):\n",
    "        max_fit= f\n",
    "        chosen= g\n",
    "print(\"genome: \",chosen, \"fitness: \", max_fit)"
   ]
  },
  {
   "cell_type": "markdown",
   "metadata": {},
   "source": [
    "### To verify the results (debug)"
   ]
  },
  {
   "cell_type": "code",
   "execution_count": 17,
   "metadata": {},
   "outputs": [
    {
     "name": "stdout",
     "output_type": "stream",
     "text": [
      "Starting point [1, 3, 5, 7, 9, 11, 13, 15]\n",
      "After p1 move [1, 3, 5, 7, 9, 11, 13, 8]\n",
      "After p2 move [0, 3, 5, 7, 9, 11, 13, 8]\n",
      "After p1 move [0, 3, 5, 7, 9, 11, 7, 8]\n",
      "After p2 move [0, 0, 5, 7, 9, 11, 7, 8]\n",
      "After p1 move [0, 0, 5, 7, 9, 10, 7, 8]\n",
      "After p2 move [0, 0, 0, 7, 9, 10, 7, 8]\n",
      "After p1 move [0, 0, 0, 1, 9, 10, 7, 8]\n",
      "After p2 move [0, 0, 0, 0, 9, 10, 7, 8]\n",
      "After p1 move [0, 0, 0, 0, 9, 9, 7, 8]\n",
      "After p2 move [0, 0, 0, 0, 0, 9, 7, 8]\n",
      "After p1 move [0, 0, 0, 0, 0, 8, 7, 8]\n",
      "After p2 move [0, 0, 0, 0, 0, 0, 7, 8]\n",
      "After p1 move [0, 0, 0, 0, 0, 0, 7, 7]\n",
      "After p2 move [0, 0, 0, 0, 0, 0, 0, 7]\n",
      "After p1 move [0, 0, 0, 0, 0, 0, 0, 0]\n",
      "Starting point [1, 3, 5, 7, 9, 11, 13, 15]\n",
      "After p2 move [0, 3, 5, 7, 9, 11, 13, 15]\n",
      "After p1 move [0, 3, 5, 7, 9, 11, 13, 8]\n",
      "After p2 move [0, 0, 5, 7, 9, 11, 13, 8]\n",
      "After p1 move [0, 0, 5, 7, 9, 11, 12, 8]\n",
      "After p2 move [0, 0, 0, 7, 9, 11, 12, 8]\n",
      "After p1 move [0, 0, 0, 1, 9, 11, 12, 8]\n",
      "After p2 move [0, 0, 0, 0, 9, 11, 12, 8]\n",
      "After p1 move [0, 0, 0, 0, 9, 11, 11, 8]\n",
      "After p2 move [0, 0, 0, 0, 0, 11, 11, 8]\n",
      "After p1 move [0, 0, 0, 0, 0, 10, 11, 8]\n",
      "After p2 move [0, 0, 0, 0, 0, 0, 11, 8]\n",
      "After p1 move [0, 0, 0, 0, 0, 0, 10, 8]\n",
      "After p2 move [0, 0, 0, 0, 0, 0, 0, 8]\n",
      "After p1 move [0, 0, 0, 0, 0, 0, 0, 0]\n",
      "After 2 matches:\n",
      "P1 (my evolved hard coded) won  2  matches (starting first  1  times!).\n",
      "P2 (with my hard coded) won  0  matches (starting first  1  times!).\n"
     ]
    }
   ],
   "source": [
    "# section to verify that the fitness is correct and to play against pure_random and optimal_strategy (to lose :))\n",
    "p1_wins=0\n",
    "first_move_p1= 0\n",
    "chosen_genome= list(chosen)\n",
    "\n",
    "for m in range(2): #In the first it starts first, in the second, it starts second\n",
    "    x= Nim(NIM_SIZE)\n",
    "    if m%2== 0:\n",
    "        first_move_p1+=1\n",
    "        p1_turn= True\n",
    "    else:\n",
    "        p1_turn= False\n",
    "    print(\"Starting point\", x._rows)\n",
    "    while(x):\n",
    "        if(p1_turn):\n",
    "            ply= my_evolved_hard_coded(x, chosen_genome)\n",
    "            x.nimming(ply)\n",
    "            print(\"After p1 move\", x._rows)\n",
    "            p1_turn= False\n",
    "        else:\n",
    "            #ply= pure_random(x)\n",
    "            #ply= giovanni(x)\n",
    "            #ply= reverse_gabriele(x)\n",
    "            #ply= optimal_strategy(x)\n",
    "            #ply= my_smart(x)\n",
    "            #ply= my_very_silly(x)\n",
    "            ply= gabriele(x)\n",
    "            x.nimming(ply)\n",
    "            print(\"After p2 move\", x._rows)\n",
    "            p1_turn= True\n",
    "    if(not p1_turn):\n",
    "        p1_wins+=1\n",
    "    \n",
    "print(\"After\", 2, \"matches:\\nP1 (my evolved hard coded) won \",p1_wins,\" matches (starting first \", first_move_p1,\" times!).\\nP2 (with my hard coded) won \",2-p1_wins,\" matches (starting first \", 2-first_move_p1,\" times!).\")\n",
    "    \n",
    "        "
   ]
  }
 ],
 "metadata": {
  "kernelspec": {
   "display_name": "Python 3.10.2 64-bit",
   "language": "python",
   "name": "python3"
  },
  "language_info": {
   "codemirror_mode": {
    "name": "ipython",
    "version": 3
   },
   "file_extension": ".py",
   "mimetype": "text/x-python",
   "name": "python",
   "nbconvert_exporter": "python",
   "pygments_lexer": "ipython3",
   "version": "3.10.2 (tags/v3.10.2:a58ebcc, Jan 17 2022, 14:12:15) [MSC v.1929 64 bit (AMD64)]"
  },
  "orig_nbformat": 4,
  "vscode": {
   "interpreter": {
    "hash": "369f2c481f4da34e4445cda3fffd2e751bd1c4d706f27375911949ba6bb62e1c"
   }
  }
 },
 "nbformat": 4,
 "nbformat_minor": 2
}
