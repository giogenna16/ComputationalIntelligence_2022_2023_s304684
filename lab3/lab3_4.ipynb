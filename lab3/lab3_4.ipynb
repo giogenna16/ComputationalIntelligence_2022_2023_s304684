{
 "cells": [
  {
   "cell_type": "code",
   "execution_count": 148,
   "metadata": {},
   "outputs": [],
   "source": [
    "from collections import namedtuple\n",
    "import random\n",
    "from copy import deepcopy\n",
    "from itertools import accumulate\n",
    "from operator import xor\n",
    "import matplotlib.pyplot as plt"
   ]
  },
  {
   "cell_type": "markdown",
   "metadata": {},
   "source": [
    "## The *Nim* and *Nimply* classes"
   ]
  },
  {
   "cell_type": "code",
   "execution_count": 149,
   "metadata": {},
   "outputs": [],
   "source": [
    "Nimply = namedtuple(\"Nimply\", \"row, num_objects\")"
   ]
  },
  {
   "cell_type": "code",
   "execution_count": 150,
   "metadata": {},
   "outputs": [],
   "source": [
    "class Nim:\n",
    "    def __init__(self, num_rows: int, k: int = None) -> None:\n",
    "        self._rows = [i * 2 + 1 for i in range(num_rows)]\n",
    "        self._k = k\n",
    "\n",
    "    def __bool__(self):\n",
    "        return sum(self._rows) > 0\n",
    "\n",
    "    def __str__(self):\n",
    "        return \"<\" + \" \".join(str(_) for _ in self._rows) + \">\"\n",
    "\n",
    "    @property\n",
    "    def rows(self) -> tuple:\n",
    "        return tuple(self._rows)\n",
    "\n",
    "    def nimming(self, ply: Nimply) -> None:\n",
    "        row, num_objects = ply\n",
    "        assert self._rows[row] >= num_objects\n",
    "        self._rows[row] -= num_objects   \n",
    "    \n",
    "    def adding(self, ply: Nimply) -> None:\n",
    "        row, num_objects = ply\n",
    "        self._rows[row] += num_objects"
   ]
  },
  {
   "cell_type": "code",
   "execution_count": 151,
   "metadata": {},
   "outputs": [],
   "source": [
    "def nim_sum(state: Nim) -> int:\n",
    "    *_, result = accumulate(state.rows, xor)\n",
    "    return result\n",
    "\n",
    "\n",
    "def cook_status(state: Nim) -> dict:\n",
    "    cooked = dict()\n",
    "    cooked[\"possible_moves\"] = [\n",
    "        (r, o) for r, c in enumerate(state.rows) for o in range(1, c + 1)\n",
    "    ]\n",
    "    cooked[\"active_rows_number\"] = sum(o > 0 for o in state.rows)\n",
    "    cooked[\"shortest_row\"] = min((x for x in enumerate(state.rows) if x[1] > 0), key=lambda y: y[1])[0]\n",
    "    cooked[\"longest_row\"] = max((x for x in enumerate(state.rows)), key=lambda y: y[1])[0]\n",
    "    cooked[\"nim_sum\"] = nim_sum(state)\n",
    "\n",
    "    brute_force = list()\n",
    "    for m in cooked[\"possible_moves\"]:\n",
    "        tmp = deepcopy(state)\n",
    "        tmp.nimming(m)\n",
    "        brute_force.append((m, nim_sum(tmp)))\n",
    "    cooked[\"brute_force\"] = brute_force\n",
    "\n",
    "    return cooked\n",
    "\n",
    "# for the recursive function, to save a bit the computational cost, because compute only the possible moves \n",
    "# removing only one object (instead of use \"cook_status(state: Nim) -> dict:\")\n",
    "def cook_status_for_rec(state: Nim) -> dict:\n",
    "    cooked = dict()\n",
    "    cooked[\"possible_remove_one\"]= [\n",
    "        (r, 1) for r, c  in enumerate(state.rows) if c > 0\n",
    "    ]\n",
    "    return cooked\n"
   ]
  },
  {
   "cell_type": "code",
   "execution_count": 152,
   "metadata": {},
   "outputs": [],
   "source": [
    "NIM_SIZE= 5"
   ]
  },
  {
   "cell_type": "markdown",
   "metadata": {},
   "source": [
    "### Find all possible states from a state"
   ]
  },
  {
   "cell_type": "code",
   "execution_count": 153,
   "metadata": {},
   "outputs": [],
   "source": [
    "def all_possible_states(res: set, state: Nim):\n",
    "    recursive_search(state, res)\n",
    "    #adding the tuple (0,0,0,0,0) (eg if NIM_SIZE=5)\n",
    "    all_zero= []   \n",
    "    for _ in range(NIM_SIZE):\n",
    "        all_zero.append(0)\n",
    "    res.add(tuple(all_zero))\n",
    "    return res #this set contains all the possible states, for instance, for NIM_SIZE=5, from (1,3,5,7,9) to (0,0,0,0,0)\n",
    "\n",
    "def recursive_search(state: Nim, result: set):\n",
    "    if state.rows  not in result: #enter only if the state is not already in the set\n",
    "        data= cook_status_for_rec(state)\n",
    "        result.add(state.rows)\n",
    "        for p in data[\"possible_remove_one\"]:\n",
    "            state.nimming(p)\n",
    "            if(state): #if it is not all zeros, do the recursive call\n",
    "                recursive_search(state, result)\n",
    "            if list(data[\"possible_remove_one\"]) != []: #if not all the considered plys from the current state are done\n",
    "                #add again the object removed by the ply to the state and remove the ply from the possible moves\n",
    "                state.adding(p)\n",
    "                temp= list(data[\"possible_remove_one\"])\n",
    "                temp.remove(p)\n",
    "                data[\"possible_remove_one\"]= temp\n",
    "\n"
   ]
  },
  {
   "cell_type": "markdown",
   "metadata": {},
   "source": [
    "### Random Agent"
   ]
  },
  {
   "cell_type": "code",
   "execution_count": 154,
   "metadata": {},
   "outputs": [],
   "source": [
    "def pure_random(state: Nim) -> Nimply:\n",
    "    row = random.choice([r for r, c in enumerate(state.rows) if c > 0])\n",
    "    num_objects = random.randint(1, state.rows[row])\n",
    "    return Nimply(row, num_objects)"
   ]
  },
  {
   "attachments": {},
   "cell_type": "markdown",
   "metadata": {},
   "source": [
    "### Optimal (Nim-Sum) Agent"
   ]
  },
  {
   "cell_type": "code",
   "execution_count": 155,
   "metadata": {},
   "outputs": [],
   "source": [
    "def optimal_strategy(state: Nim) -> Nimply:\n",
    "    data = cook_status(state)\n",
    "    return next((bf for bf in data[\"brute_force\"] if bf[1] == 0), random.choice(data[\"brute_force\"]))[0]"
   ]
  },
  {
   "cell_type": "markdown",
   "metadata": {},
   "source": [
    "## Reinforcement Learning Agent"
   ]
  },
  {
   "cell_type": "code",
   "execution_count": 156,
   "metadata": {},
   "outputs": [],
   "source": [
    "class Agent(object):\n",
    "    def __init__(self, states, alpha=0.15, random_factor=0.2):  # 80% explore, 20% exploit\n",
    "        self.state_history = []  # state, reward\n",
    "        self.alpha = alpha\n",
    "        self.random_factor = random_factor\n",
    "        self.G = {}\n",
    "        self.init_reward(states)\n",
    "\n",
    "    def init_reward(self, states):\n",
    "        for st in states:\n",
    "            self.G[st] = random.uniform(0, 5*NIM_SIZE/3) # 5*NIM_SIZE/3 is an hyperparameter\n",
    "\n",
    "    def choose_action(self, state:Nim):\n",
    "        allowedMoves= [(r, o) for r, c in enumerate(state.rows) for o in range(1, c + 1)]\n",
    "        minG = 10e15\n",
    "        next_move = None\n",
    "        if random.random() < self.random_factor:\n",
    "            # if random number below random factor, choose random action\n",
    "            next_move = random.choice(allowedMoves)\n",
    "        else:\n",
    "            # if exploiting, gather all possible actions and choose one with the highest G (reward)\n",
    "            for action in allowedMoves:\n",
    "                state.nimming(action) # do a nim\n",
    "                if self.G[state.rows] <= minG: # verify if the G is better than the best so far\n",
    "                    next_move = action\n",
    "                    minG = self.G[state.rows]\n",
    "                state.adding(action)  # add again the objects removed from the nimmings\n",
    "        return next_move  #return the ply\n",
    "\n",
    "    def update_state_history(self, state, reward):\n",
    "        self.state_history.append((state, reward))\n",
    "\n",
    "    def learn(self):\n",
    "        target = 0\n",
    "        for prev, reward in reversed(self.state_history):\n",
    "            self.G[prev] = self.G[prev] + self.alpha * (target - self.G[prev])\n",
    "            target += reward\n",
    "        self.state_history = []\n",
    "        self.random_factor -= 10e-5  # decrease random factor each episode of play\n"
   ]
  },
  {
   "attachments": {},
   "cell_type": "markdown",
   "metadata": {},
   "source": [
    "### \"Main\""
   ]
  },
  {
   "cell_type": "code",
   "execution_count": 157,
   "metadata": {},
   "outputs": [
    {
     "name": "stdout",
     "output_type": "stream",
     "text": [
      "[1, 78, 77, 86, 85, 82, 83, 90, 97, 93, 85, 90, 90, 90, 91, 87, 87, 90, 89, 99, 97, 95, 93, 99, 98, 97, 95, 97, 92, 97, 93, 96, 95, 96, 94, 91, 95, 96, 97, 94, 99, 94, 94, 96, 95, 99, 98, 95, 96, 96, 92, 99, 97, 96, 95, 97, 100, 97, 99, 92, 94, 97, 95, 97, 97, 93, 99, 95, 97, 97, 95, 97, 93, 94, 95, 93, 94, 92, 93, 92, 97, 94, 95, 98, 97, 94, 94, 96, 93, 95, 94, 96, 99, 99, 95, 98, 94, 96, 96, 97]\n"
     ]
    },
    {
     "data": {
      "image/png": "[encoded data removed]",
      "text/plain": [
       "<Figure size 640x480 with 1 Axes>"
      ]
     },
     "metadata": {},
     "output_type": "display_data"
    }
   ],
   "source": [
    "res= set() \n",
    "robot = Agent(all_possible_states(res, Nim(NIM_SIZE)))\n",
    "winsHistory = []\n",
    "indices = []\n",
    "p1_wins=0\n",
    "\n",
    "for m in range(10000):\n",
    "    x= Nim(NIM_SIZE)\n",
    "    if m%2== 0: #one time it starts first, one time second\n",
    "        p1_turn= True\n",
    "    else:\n",
    "        p1_turn= False\n",
    "    while(x):\n",
    "        if(p1_turn):\n",
    "            ply = robot.choose_action(x)\n",
    "            x.nimming(ply)\n",
    "            reward = nim_sum(x)\n",
    "            robot.update_state_history(x.rows, reward)           \n",
    "            p1_turn= False\n",
    "        else:\n",
    "            ply= pure_random(x)\n",
    "            x.nimming(ply)\n",
    "            p1_turn= True\n",
    "    if(not p1_turn):\n",
    "        robot.learn() #it learns ONLY if it wins\n",
    "        p1_wins+=1\n",
    "    if m % 100 == 0:\n",
    "        winsHistory.append(p1_wins)\n",
    "        indices.append(m)\n",
    "        p1_wins=0\n",
    "       \n",
    "print(winsHistory)\n",
    "plt.plot(indices, winsHistory)\n",
    "plt.xlabel('Number of matches')\n",
    "plt.ylabel('Number of matches won for every 100 matches')\n",
    "plt.title('How the Reinforcement Learning Agent work:\\n')\n",
    "plt.show()\n",
    "    "
   ]
  }
 ],
 "metadata": {
  "kernelspec": {
   "display_name": "Python 3.10.2 64-bit",
   "language": "python",
   "name": "python3"
  },
  "language_info": {
   "codemirror_mode": {
    "name": "ipython",
    "version": 3
   },
   "file_extension": ".py",
   "mimetype": "text/x-python",
   "name": "python",
   "nbconvert_exporter": "python",
   "pygments_lexer": "ipython3",
   "version": "3.10.2"
  },
  "orig_nbformat": 4,
  "vscode": {
   "interpreter": {
    "hash": "369f2c481f4da34e4445cda3fffd2e751bd1c4d706f27375911949ba6bb62e1c"
   }
  }
 },
 "nbformat": 4,
 "nbformat_minor": 2
}
