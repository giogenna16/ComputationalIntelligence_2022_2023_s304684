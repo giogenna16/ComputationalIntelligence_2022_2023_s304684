{
 "cells": [
  {
   "cell_type": "code",
   "execution_count": 65,
   "metadata": {},
   "outputs": [],
   "source": [
    "import random\n",
    "from collections import namedtuple"
   ]
  },
  {
   "cell_type": "markdown",
   "metadata": {},
   "source": [
    "## The *Nim* and *Nimply* classes"
   ]
  },
  {
   "cell_type": "code",
   "execution_count": 66,
   "metadata": {},
   "outputs": [],
   "source": [
    "Nimply = namedtuple(\"Nimply\", \"row, num_objects\")"
   ]
  },
  {
   "cell_type": "code",
   "execution_count": 67,
   "metadata": {},
   "outputs": [],
   "source": [
    "class Nim:\n",
    "    def __init__(self, num_rows: int, k: int = None) -> None:\n",
    "        self._rows = [i * 2 + 1 for i in range(num_rows)]\n",
    "        self._k = k\n",
    "\n",
    "    def __bool__(self):\n",
    "        return sum(self._rows) > 0\n",
    "\n",
    "    def __str__(self):\n",
    "        return \"<\" + \" \".join(str(_) for _ in self._rows) + \">\"\n",
    "\n",
    "    @property\n",
    "    def rows(self) -> tuple:\n",
    "        return tuple(self._rows)\n",
    "\n",
    "    @property\n",
    "    def k(self) -> int:\n",
    "        return self._k\n",
    "\n",
    "    def nimming(self, ply: Nimply) -> None:\n",
    "        row, num_objects = ply\n",
    "        assert self._rows[row] >= num_objects\n",
    "        assert self._k is None or num_objects <= self._k\n",
    "        self._rows[row] -= num_objects   \n",
    "   \n",
    "    \n",
    "# x= Nim(5)\n",
    "# x.nimming(2, 3) #leave 3 objects from the row 2 (the first row is row 0)\n",
    "# print(x._rows)"
   ]
  },
  {
   "cell_type": "markdown",
   "metadata": {},
   "source": [
    "## My personal NIM-SUM strategy"
   ]
  },
  {
   "cell_type": "code",
   "execution_count": 68,
   "metadata": {},
   "outputs": [],
   "source": [
    "#     XOR\n",
    "#  xor 0  1\n",
    "#   0  0  1\n",
    "#   1  1  0\n",
    "\n",
    "# The agent will choose the move, so the number of object to remove and in which row, thanks to the NIM-SUM logic:\n",
    "# the agent wll remove a number of object such that the bitwise xor operation between the number of elements in each row is\n",
    "# equal to zero: for example, if the current nim is [1, 2, 2], the agent could leave 1 object from the first row, so the \n",
    "# nim will become [0, 2, 2] and the nim-sum logic is respected, in fact: (0 xor 2 xor 2) is equal to 0.\n",
    "\n",
    "def nim_sum(nim: Nim):\n",
    "    temp= nim._rows.copy()\n",
    "    row_number= -1\n",
    "    nim_sum= 0 \n",
    "    for r in nim._rows:\n",
    "        nim_sum^= r  # '^' is the bitwise xor operator\n",
    "    if nim_sum != 0:\n",
    "        # the goal is to obtain a NIM_SUM equal to 0\n",
    "        # greedy approach: the first solution reached is choosen (so the first move found that guarantees the bitwise \n",
    "        # xor equal to zero is chosen)\n",
    "        for r in temp:\n",
    "            row_number+= 1\n",
    "            for i in range(r):\n",
    "                j= i + 1 \n",
    "                with_removal= temp.copy()\n",
    "                with_removal.remove(r)\n",
    "                res= r - j\n",
    "                for e in with_removal:\n",
    "                    res^= e \n",
    "                if res == 0: # the bitwise xor is equal to zero\n",
    "                    return Nimply(row_number, j)\n",
    "    else:\n",
    "        # if it has arrived here, it means that there are not NIM_SUM solution (the NIM_SUM is already 0): the agent \n",
    "        # will remove a random number of object from a random row\n",
    "        selected= random.choice([e for e in temp if e != 0])\n",
    "        to_remove= random.randrange(1, selected+1) \n",
    "        row_number= temp.index(selected)\n",
    "        return Nimply(row_number, to_remove)"
   ]
  },
  {
   "cell_type": "markdown",
   "metadata": {},
   "source": [
    "## You vs my agent!\n",
    "I created a *.py* file for this part because the *input()* function in my enviroment (maybe everywhere) works in an uncoordinated way (it prints after things that should be printed before) on *.ipynb* files. In the *la3_1.py* file, no problem!"
   ]
  },
  {
   "cell_type": "code",
   "execution_count": 72,
   "metadata": {},
   "outputs": [],
   "source": [
    "# LOOK AT THE FILE ***lab3_1.py***\n"
   ]
  }
 ],
 "metadata": {
  "kernelspec": {
   "display_name": "Python 3.10.2 64-bit",
   "language": "python",
   "name": "python3"
  },
  "language_info": {
   "codemirror_mode": {
    "name": "ipython",
    "version": 3
   },
   "file_extension": ".py",
   "mimetype": "text/x-python",
   "name": "python",
   "nbconvert_exporter": "python",
   "pygments_lexer": "ipython3",
   "version": "3.10.2"
  },
  "orig_nbformat": 4,
  "vscode": {
   "interpreter": {
    "hash": "369f2c481f4da34e4445cda3fffd2e751bd1c4d706f27375911949ba6bb62e1c"
   }
  }
 },
 "nbformat": 4,
 "nbformat_minor": 2
}
